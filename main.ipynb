{
 "cells": [
  {
   "cell_type": "code",
   "execution_count": 3,
   "metadata": {},
   "outputs": [
    {
     "name": "stdout",
     "output_type": "stream",
     "text": [
      "Any[\"ECON 400\", String31(\"STAT/MATH 309\"), \"ECON 522\", String31(\"GEOG 574\"), String31(\"STAT 433\"), String31(\"CS/ECE/ME 539\"), String31(\"MATH 531\"), String31(\"CS/ECE 533\"), \"ECON 370\", String31(\"STAT 371\"), String31(\"CS/BMI 567\"), String31(\"MATH/ISYE/OTM/STAT 632\"), String31(\"SOIL SCI 585\"), \"ECON/PHILOS 524\", \"ECON 409\", String31(\"STAT 312\"), String31(\"LIS 407\"), String31(\"GEOG 579\"), \"ECON 570\", String31(\"CS/ECE 506\"), String31(\"STAT 349\"), \"ECON 301\", String31(\"STAT/ME 424\"), String31(\"CS/ISYE 518\"), String31(\"ISYE 521\"), \"MATH 211\", \"ECON/FINANCE 320\", \"ECON 321\", \"ECON/\\u200bAAE/\\u200bENVIRST/\\u200bURBRPL  671\", \"ECON 468\", String31(\"CS 534\"), String31(\"LIS 464\"), String31(\"CS 571\"), \"ECON 455\", String31(\"ISYE 412\"), \"ECON/AAE 477\", \"ECON 467\", String31(\"CS/ECE/ME 532\"), String31(\"GEOG 378\"), String31(\"CS/ISYE 526\"), String31(\"GEN BUS 656\"), \"ECON/HIST SCI 305\", \"ECON/AAE 371\", String31(\"STAT 421\"), \"ECON 205\", String31(\"CS 407\"), \"MATH 171\", \"STAT 311\", String31(\"GEOG 572\"), String31(\"CS 536\"), \"ECON 102\", String31(\"ISYE 323\"), \"ECON/RMI 530\", \"ECON 461\", \"ECON/AAE/REALEST/URBRPL 306\", \"MATH/STAT 309\", \"ECON/AAE/ENVIRST 343\", \"ECON/ENVIRSCI/POLISCI 449\", \"ECON 460\", \"ECON 311\", String31(\"LIS 461\"), \"ECON 623\", \"ECON 390\", String31(\"STAT 453\"), String31(\"CS/ISYE/MATH/STAT 525\"), \"ECON 442\", String31(\"CS/ECE/MATH 435\"), String31(\"STAT 240\"), String31(\"MATH 331\"), String31(\"MATH 222\"), String31(\"CS/MATH/STAT 475\"), \"ECON/\\u200bAAE/\\u200bF&WECOL  531\", String31(\"CS/ISYE/ME 558\"), String31(\"MATH 535\"), String31(\"STAT 451\"), \"ECON 111\", String31(\"CS 412\"), String31(\"CS 538\"), String31(\"CS/ECE 552\"), \"ECON 315\", String31(\"SOC/C&ESOC 693\"), String31(\"CS/ECE 561\"), String31(\"STAT 443\"), \"ECON/AAE 474\", String31(\"CS 400\"), String31(\"ECE 203\"), \"ECON 302\", String31(\"MATH 320\"), \"ECON 312\", String31(\"CS 559\"), String31(\"CS 220\"), String31(\"CS/MATH 240\"), \"ECON 458\", String31(\"CS/MATH 513\"), String31(\"CS 570\"), String31(\"CS 620\"), String31(\"PHYSICS 361\"), String31(\"STAT/MATH 310\"), String31(\"CS 540\"), String31(\"CS 320\"), String31(\"CS/ECE/ISYE 524\"), String31(\"CS 639\"), \"ECON 664\", \"ECON 441\", String31(\"CS 640\"), \"ECON 410\", String31(\"LIS 501\"), String31(\"ISYE 575\"), \"ECON 448\", String31(\"INFO SYS 322\"), String31(\"STAT 351\"), \"STAT 324\", String31(\"CS/ISYE/MATH 425\"), String31(\"MATH 375\"), \"ECON/FINANCE 503\", String31(\"CS 541\"), \"ECON 450\", String31(\"LSC 660\"), \"ECON 521\", \"ECON 580\", \"ECON 310\", \"ECON/HISTORY 466\", String31(\"CS 564\"), String31(\"CS 520\"), \"ECON/\\u200bAAE/\\u200bINTLBUS  462\", String31(\"STAT/MATH 431\"), String31(\"CS 537\"), \"ECON 465\", String31(\"CS 542\"), String31(\"LSC 460\"), String31(\"GEOG 573\"), \"ECON 661\", \"ECON 330\", String31(\"STAT 405\"), \"MATH/STAT 431\", String31(\"CS/BMI 576\"), String31(\"STAT 461\"), \"ECON/AAE 421\", String31(\"CS 577\"), \"ECON 475\", String31(\"MATH 635\"), \"ECON 690\", \"ECON/AAE 526\", String31(\"SOC/C&ESOC 618\"), \"ECON 435\", String31(\"CS 300\"), String31(\"CS/MATH 514\"), String31(\"STAT 436\"), String31(\"STAT 333\"), \"ECON 695\", String31(\"CS/ECE 252\"), String31(\"CS/STAT 471\"), String31(\"STAT 575\"), \"ECON 666\", String31(\"MATH 341\"), String31(\"CS 565\"), \"MATH 221\", String31(\"ISYE 612\"), \"ECON 101\", \"ECON/SOC 663\", String31(\"MATH 444\"), \"ECON/FINANCE 300\", \"ECON/REALEST/URBRPL 420\", \"ECON 621\", \"STAT 340\", String31(\"LIS 440\"), String31(\"CS 566\"), String31(\"CS/ECE 354\"), String31(\"CS 579\"), \"MATH 217\", \"MATH 213\", String31(\"CS/ISYE 635\"), \"ECON 309\", \"ECON 355\", \"ECON 451\", String31(\"MATH 340\"), String31(\"CS 642\"), \"ECON/POPHLTH/PUBAFFR 548\", String31(\"CS 544\"), \"ECON/AAE 473\", String31(\"ISYE/ME 512\"), \"ECON 464\", String31(\"STAT 456\"), String31(\"SOC 351\"), String31(\"GEOG 575\"), String31(\"ECE/ISYE 570\")]\n"
     ]
    }
   ],
   "source": [
    "using CSV\n",
    "using DataFrames\n",
    "\n",
    "df = CSV.read(\"uwcourses.csv\", DataFrame)\n",
    "\n",
    "list_courses = []\n",
    "for col in eachcol(df)\n",
    "    for course in col\n",
    "        if ismissing(course) == true\n",
    "            continue\n",
    "        end\n",
    "        push!(list_courses, course)\n",
    "    end\n",
    "end\n",
    "courses = collect(Set(list_courses)) \n",
    "\n",
    "println(courses)"
   ]
  },
  {
   "cell_type": "code",
   "execution_count": 9,
   "metadata": {},
   "outputs": [
    {
     "name": "stdout",
     "output_type": "stream",
     "text": [
      "Optimal solution found. Courses to enroll:\n",
      "CS/ECE/ME 539\n",
      "ECON 301\n",
      "ECON 102\n",
      "ECON 311\n",
      "STAT 240\n",
      "MATH 222\n",
      "ECON 111\n",
      "CS 400\n",
      "MATH 320\n",
      "CS 220\n",
      "CS/MATH 240\n",
      "CS 320\n",
      "CS 300\n",
      "CS/ECE 252\n",
      "MATH 221\n",
      "STAT 340\n",
      "CS/ECE 354\n",
      "MATH 217\n"
     ]
    }
   ],
   "source": [
    "using JuMP, GLPK\n",
    "\n",
    "# Define the model with the GLPK solver\n",
    "model = Model(GLPK.Optimizer)\n",
    "\n",
    "# Create a binary variable for each course\n",
    "@variable(model, course_taken[courses], Bin)\n",
    "\n",
    "@constraint(model, course_taken[\"CS/MATH 240\"] + course_taken[\"CS/ECE 252\"] + course_taken[\"CS 300\"] + course_taken[\"CS/ECE 354\"] + course_taken[\"CS 400\"] >= 5)\n",
    "@constraint(model, course_taken[\"MATH 221\"] + course_taken[\"MATH 222\"] >= 2)\n",
    "\n",
    "@constraint(model, course_taken[\"MATH 320\"] + course_taken[\"MATH 340\"] + course_taken[\"MATH 341\"] + course_taken[\"MATH 375\"] >= 1)\n",
    "\n",
    "@constraint(model, course_taken[\"STAT/MATH 309\"] + course_taken[\"STAT 311\"] + course_taken[\"STAT 324\"] + course_taken[\"STAT 333\"] + course_taken[\"STAT 340\"] + course_taken[\"STAT 371\"] + course_taken[\"MATH/STAT 431\"] + course_taken[\"MATH 531\"] >= 1)\n",
    "\n",
    "@constraint(model, course_taken[\"MATH 221\"] + course_taken[\"MATH 217\"] + course_taken[\"MATH 222\"] >= 3)\n",
    "@constraint(model, course_taken[\"STAT 240\"] + course_taken[\"STAT 340\"] + course_taken[\"CS 220\"] + course_taken[\"CS 300\"] + course_taken[\"CS 320\"] >= 5)\n",
    "\n",
    "@constraint(model, course_taken[\"CS 400\"] + course_taken[\"CS 412\"] + course_taken[\"CS/STAT 471\"] + course_taken[\"CS/MATH 513\"] + course_taken[\"CS/MATH 514\"] + course_taken[\"CS/ECE/ISYE 524\"] + course_taken[\"CS 544\"] + course_taken[\"CS 564\"] + course_taken[\"CS 565\"] + course_taken[\"CS/BMI 576\"] >= 1)\n",
    "@constraint(model, course_taken[\"CS/ECE/ME 532\"] + course_taken[\"CS/ECE/ME 539\"] + course_taken[\"CS 540\"] + course_taken[\"GEN BUS 656\"] + course_taken[\"ISYE 521\"] + course_taken[\"MATH 535\"] + course_taken[\"PHYSICS 361\"] + course_taken[\"STAT 451\"] + course_taken[\"STAT 453\"] >= 1)\n",
    "\n",
    "@constraint(model, course_taken[\"MATH 221\"] + course_taken[\"MATH 171\"] + course_taken[\"MATH 217\"] + course_taken[\"MATH 211\"] + course_taken[\"MATH 213\"] + course_taken[\"ECON 205\"] >= 2)\n",
    "@constraint(model, course_taken[\"ECON 310\"] + course_taken[\"ECON 400\"] + course_taken[\"ECON 410\"] + course_taken[\"MATH/STAT 309\"] + course_taken[\"STAT 311\"] + course_taken[\"STAT 324\"] + course_taken[\"STAT 340\"] >= 1)\n",
    "\n",
    "@constraint(model, course_taken[\"ECON 101\"] + course_taken[\"ECON 102\"] + course_taken[\"ECON 111\"] >= 2)\n",
    "@constraint(model, course_taken[\"ECON 301\"] + course_taken[\"ECON 302\"] + course_taken[\"ECON 311\"] + course_taken[\"ECON 312\"] >= 2)\n",
    "\n",
    "\n",
    "# Objective: Minimize the total number of courses\n",
    "@objective(model, Min, sum(course_taken))\n",
    "\n",
    "# Solve the optimization problem\n",
    "optimize!(model)\n",
    "\n",
    "# Check if a solution was found\n",
    "if termination_status(model) == MOI.OPTIMAL\n",
    "    println(\"Optimal solution found. Courses to enroll:\")\n",
    "    for course in courses\n",
    "        if value(course_taken[course]) > 0.5\n",
    "            println(course)\n",
    "        end\n",
    "    end\n",
    "else\n",
    "    println(\"No optimal solution found.\")\n",
    "end\n"
   ]
  },
  {
   "cell_type": "code",
   "execution_count": null,
   "metadata": {},
   "outputs": [],
   "source": []
  }
 ],
 "metadata": {
  "kernelspec": {
   "display_name": "Julia 1.10.5",
   "language": "julia",
   "name": "julia-1.10"
  },
  "language_info": {
   "file_extension": ".jl",
   "mimetype": "application/julia",
   "name": "julia",
   "version": "1.10.5"
  }
 },
 "nbformat": 4,
 "nbformat_minor": 2
}
